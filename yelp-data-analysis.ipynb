{
 "cells": [
  {
   "cell_type": "code",
   "execution_count": 81,
   "metadata": {
    "collapsed": true
   },
   "outputs": [],
   "source": [
    "import numpy as np\n",
    "import pandas as pd\n",
    "import re\n",
    "\n",
    "import warnings\n",
    "warnings.filterwarnings('ignore')"
   ]
  },
  {
   "cell_type": "code",
   "execution_count": 82,
   "metadata": {
    "collapsed": true
   },
   "outputs": [],
   "source": [
    "# These help the maps display nicely in the notebook\n",
    "%matplotlib inline\n",
    "plt.rcParams['figure.figsize'] = [5, 5]"
   ]
  },
  {
   "cell_type": "code",
   "execution_count": 114,
   "metadata": {
    "collapsed": true
   },
   "outputs": [],
   "source": [
    "# load in scraped data as dataframes\n",
    "\n",
    "chinatown = pd.read_csv(\"chinatownloc.csv\")\n",
    "fidi = pd.read_csv(\"fidiloc.csv\")\n",
    "bvhp = pd.read_csv(\"BVHPloc.csv\")\n",
    "mission = pd.read_csv(\"missionloc.csv\")\n",
    "marina = pd.read_csv(\"marinaloc.csv\")\n",
    "\n",
    "neighborhoods = [chinatown, fidi, bvhp, mission, marina]"
   ]
  },
  {
   "cell_type": "markdown",
   "metadata": {},
   "source": [
    "## by price range"
   ]
  },
  {
   "cell_type": "code",
   "execution_count": 138,
   "metadata": {},
   "outputs": [
    {
     "data": {
      "text/plain": [
       "price_range\n",
       "$       0.529915\n",
       "$$      0.427350\n",
       "$$$     0.025641\n",
       "$$$$    0.017094\n",
       "Name: rank, dtype: float64"
      ]
     },
     "execution_count": 138,
     "metadata": {},
     "output_type": "execute_result"
    }
   ],
   "source": [
    "# chinatown\n",
    "\n",
    "chinatown.groupby(\"price_range\").count().iloc[:,1] \\\n",
    "/ sum(chinatown.groupby(\"price_range\").count().iloc[:,1])"
   ]
  },
  {
   "cell_type": "code",
   "execution_count": 139,
   "metadata": {},
   "outputs": [
    {
     "data": {
      "text/plain": [
       "price_range\n",
       "$       0.244275\n",
       "$$      0.641221\n",
       "$$$     0.099237\n",
       "$$$$    0.015267\n",
       "Name: rank, dtype: float64"
      ]
     },
     "execution_count": 139,
     "metadata": {},
     "output_type": "execute_result"
    }
   ],
   "source": [
    "# marina\n",
    "\n",
    "marina.groupby(\"price_range\").count().iloc[:,1] \\\n",
    "/ sum(marina.groupby(\"price_range\").count().iloc[:,1])"
   ]
  },
  {
   "cell_type": "code",
   "execution_count": 137,
   "metadata": {},
   "outputs": [
    {
     "data": {
      "text/plain": [
       "price_range\n",
       "$       0.403846\n",
       "$$      0.482906\n",
       "$$$     0.091880\n",
       "$$$$    0.021368\n",
       "Name: rank, dtype: float64"
      ]
     },
     "execution_count": 137,
     "metadata": {},
     "output_type": "execute_result"
    }
   ],
   "source": [
    "# fidi \n",
    "\n",
    "fidi.groupby(\"price_range\").count().iloc[:,1] \\\n",
    "/ sum(fidi.groupby(\"price_range\").count().iloc[:,1])"
   ]
  },
  {
   "cell_type": "code",
   "execution_count": 136,
   "metadata": {},
   "outputs": [
    {
     "data": {
      "text/plain": [
       "price_range\n",
       "$     0.535714\n",
       "$$    0.464286\n",
       "Name: rank, dtype: float64"
      ]
     },
     "execution_count": 136,
     "metadata": {},
     "output_type": "execute_result"
    }
   ],
   "source": [
    "# BVHP\n",
    "\n",
    "bvhp.groupby(\"price_range\").count().iloc[:,1] \\\n",
    "/ sum(bvhp.groupby(\"price_range\").count().iloc[:,1])"
   ]
  },
  {
   "cell_type": "code",
   "execution_count": 140,
   "metadata": {
    "scrolled": true
   },
   "outputs": [
    {
     "data": {
      "text/plain": [
       "price_range\n",
       "$       0.415584\n",
       "$$      0.519481\n",
       "$$$     0.044156\n",
       "$$$$    0.020779\n",
       "Name: rank, dtype: float64"
      ]
     },
     "execution_count": 140,
     "metadata": {},
     "output_type": "execute_result"
    }
   ],
   "source": [
    "# mission\n",
    "\n",
    "mission.groupby(\"price_range\").count().iloc[:,1] \\\n",
    "/ sum(mission.groupby(\"price_range\").count().iloc[:,1])"
   ]
  },
  {
   "cell_type": "markdown",
   "metadata": {},
   "source": [
    "## cuisine analysis"
   ]
  },
  {
   "cell_type": "code",
   "execution_count": 115,
   "metadata": {},
   "outputs": [],
   "source": [
    "# turn yelp categories into list format\n",
    "# create primary category column that lists just one cuisine\n",
    "\n",
    "for neighborhood in neighborhoods:\n",
    "    categories = []\n",
    "    for i in np.arange(len(neighborhood[\"categories\"])):\n",
    "        category = neighborhood[\"categories\"][i].split(',')\n",
    "        categories.append(category)\n",
    "    neighborhood[\"categories\"] = categories\n",
    "    neighborhood[\"primary_category\"] = [category[0] for category in categories]"
   ]
  },
  {
   "cell_type": "code",
   "execution_count": 100,
   "metadata": {},
   "outputs": [
    {
     "data": {
      "text/plain": [
       "[0.007518796992481203,\n",
       " 0.04933586337760911,\n",
       " 0.0945945945945946,\n",
       " 0.0273972602739726,\n",
       " 0.0]"
      ]
     },
     "execution_count": 100,
     "metadata": {},
     "output_type": "execute_result"
    }
   ],
   "source": [
    "# fast food (chinatown, fidi, bvhp, mission, marina)\n",
    "\n",
    "ffs = []\n",
    "for neighborhood in neighborhoods:\n",
    "    ff = sum([int('Fast Food' in neighborhood[\"categories\"][x]) for x in np.arange(len(neighborhood[\"categories\"]))])/len(neighborhood[\"categories\"])\n",
    "    ffs.append(ff)\n",
    "ffs"
   ]
  },
  {
   "cell_type": "code",
   "execution_count": 107,
   "metadata": {},
   "outputs": [
    {
     "data": {
      "image/png": "[encoded data removed]",
      "text/plain": [
       "<matplotlib.figure.Figure at 0x11d96f438>"
      ]
     },
     "metadata": {},
     "output_type": "display_data"
    }
   ],
   "source": [
    "x = np.arange(5)\n",
    "\n",
    "plt.bar(x, ffs)\n",
    "plt.xticks(x, (\"Chinatown\", \"Fidi\", \"BVHP\", \"Mission\", \"Marina\"))\n",
    "plt.xlabel(\"Neighborhood\")\n",
    "plt.ylabel(\"Percent of Fast Food Restaurants\")\n",
    "plt.show()"
   ]
  },
  {
   "cell_type": "code",
   "execution_count": null,
   "metadata": {
    "collapsed": true
   },
   "outputs": [],
   "source": [
    "for neighborhood in neighborhoods:\n",
    "    dict = {}\n",
    "    dict[\"Mexican\"] = sum([int('Mexican' in neighborhood[\"categories\"][x]) for x in np.arange(len(neighborhood[\"categories\"]))])/len(neighborhood[\"categories\"])\n",
    "    canto = sum([int('Cantonese' in neighborhood[\"categories\"][x]) for x in np.arange(len(neighborhood[\"categories\"]))])/len(neighborhood[\"categories\"])   \n",
    "    dimsum = sum([int('Cantonese' in neighborhood[\"categories\"][x]) for x in np.arange(len(neighborhood[\"categories\"]))])/len(neighborhood[\"categories\"])   \n",
    "    dict[\"Chinese\"] = sum([int('C' in neighborhood[\"categories\"][x]) for x in np.arange(len(neighborhood[\"categories\"]))])/len(neighborhood[\"categories\"])\n",
    "    dict[\"Mexican\"] = sum([int('Mexican' in neighborhood[\"categories\"][x]) for x in np.arange(len(neighborhood[\"categories\"]))])/len(neighborhood[\"categories\"])\n",
    "    \n",
    "    \n",
    "    \n",
    "    \n",
    "    "
   ]
  },
  {
   "cell_type": "code",
   "execution_count": 160,
   "metadata": {},
   "outputs": [],
   "source": [
    "bvhp.groupby(\"primary_category\").count()\n",
    "x = 10\n",
    "mission_top10 = mission.groupby(\"primary_category\").count().iloc[:,1].to_frame().sort_values(by=\"rank\", ascending = False).head(10)"
   ]
  },
  {
   "cell_type": "code",
   "execution_count": 167,
   "metadata": {},
   "outputs": [
    {
     "data": {
      "text/plain": [
       "<matplotlib.text.Text at 0x11d68cfd0>"
      ]
     },
     "execution_count": 167,
     "metadata": {},
     "output_type": "execute_result"
    },
    {
     "data": {
      "image/png": "[encoded data removed]",
      "text/plain": [
       "<matplotlib.figure.Figure at 0x121930908>"
      ]
     },
     "metadata": {},
     "output_type": "display_data"
    }
   ],
   "source": [
    "x = 10\n",
    "plt.barh(np.arange(10), mission_top10.values)\n",
    "plt.yticks(np.arange(10), mission_top10.index)\n",
    "plt.ylabel(\"Cuisine\")\n",
    "plt.xlabel(\"Number of Restaurants\")\n",
    "plt.title(\"Top 10 Cuisines in the Mission\")"
   ]
  },
  {
   "cell_type": "code",
   "execution_count": 170,
   "metadata": {},
   "outputs": [
    {
     "data": {
      "text/plain": [
       "<matplotlib.text.Text at 0x121555da0>"
      ]
     },
     "execution_count": 170,
     "metadata": {},
     "output_type": "execute_result"
    },
    {
     "data": {
      "image/png": "[encoded data removed]",
      "text/plain": [
       "<matplotlib.figure.Figure at 0x12171fef0>"
      ]
     },
     "metadata": {},
     "output_type": "display_data"
    }
   ],
   "source": [
    "mission_top10 = chinatown.groupby(\"primary_category\").count().iloc[:,1].to_frame().sort_values(by=\"rank\", ascending = False).head(10)\n",
    "plt.barh(np.arange(10), mission_top10.values)\n",
    "plt.yticks(np.arange(10), mission_top10.index)\n",
    "plt.ylabel(\"Cuisine\")\n",
    "plt.xlabel(\"Number of Restaurants\")\n",
    "plt.title(\"Top 10 Cuisines in Chinatown\")\n",
    "\n",
    "\n",
    "\n",
    "\n"
   ]
  },
  {
   "cell_type": "code",
   "execution_count": 177,
   "metadata": {},
   "outputs": [
    {
     "data": {
      "text/plain": [
       "<matplotlib.text.Text at 0x1227727f0>"
      ]
     },
     "execution_count": 177,
     "metadata": {},
     "output_type": "execute_result"
    },
    {
     "data": {
      "image/png": "[encoded data removed]",
      "text/plain": [
       "<matplotlib.figure.Figure at 0x1226dbe80>"
      ]
     },
     "metadata": {},
     "output_type": "display_data"
    }
   ],
   "source": [
    "mission_top10 = bvhp.groupby(\"primary_category\").count().iloc[:,1].to_frame().sort_values(by=\"rank\", ascending = False).head(10)\n",
    "plt.barh(np.arange(10), mission_top10.values)\n",
    "plt.yticks(np.arange(10), mission_top10.index)\n",
    "plt.ylabel(\"Cuisine\")\n",
    "plt.xlabel(\"Number of Restaurants\")\n",
    "plt.title(\"Top 10 Cuisines in BVHP\")\n"
   ]
  },
  {
   "cell_type": "code",
   "execution_count": 178,
   "metadata": {},
   "outputs": [
    {
     "data": {
      "text/plain": [
       "<matplotlib.text.Text at 0x122987898>"
      ]
     },
     "execution_count": 178,
     "metadata": {},
     "output_type": "execute_result"
    },
    {
     "data": {
      "image/png": "[encoded data removed]",
      "text/plain": [
       "<matplotlib.figure.Figure at 0x12287a588>"
      ]
     },
     "metadata": {},
     "output_type": "display_data"
    }
   ],
   "source": [
    "mission_top10 = marina.groupby(\"primary_category\").count().iloc[:,1].to_frame().sort_values(by=\"rank\", ascending = False).head(10)\n",
    "plt.barh(np.arange(10), mission_top10.values)\n",
    "plt.yticks(np.arange(10), mission_top10.index)\n",
    "plt.ylabel(\"Cuisine\")\n",
    "plt.xlabel(\"Number of Restaurants\")\n",
    "plt.title(\"Top 10 Cuisines in the Marina\")"
   ]
  },
  {
   "cell_type": "code",
   "execution_count": 179,
   "metadata": {},
   "outputs": [
    {
     "data": {
      "text/plain": [
       "<matplotlib.text.Text at 0x122a93940>"
      ]
     },
     "execution_count": 179,
     "metadata": {},
     "output_type": "execute_result"
    },
    {
     "data": {
      "image/png": "[encoded data removed]",
      "text/plain": [
       "<matplotlib.figure.Figure at 0x12290c048>"
      ]
     },
     "metadata": {},
     "output_type": "display_data"
    }
   ],
   "source": [
    "mission_top10 = fidi.groupby(\"primary_category\").count().iloc[:,1].to_frame().sort_values(by=\"rank\", ascending = False).head(10)\n",
    "plt.barh(np.arange(10), mission_top10.values)\n",
    "plt.yticks(np.arange(10), mission_top10.index)\n",
    "plt.ylabel(\"Cuisine\")\n",
    "plt.xlabel(\"Number of Restaurants\")\n",
    "plt.title(\"Top 10 Cuisines in FiDi\")"
   ]
  },
  {
   "cell_type": "code",
   "execution_count": null,
   "metadata": {
    "collapsed": true
   },
   "outputs": [],
   "source": []
  }
 ],
 "metadata": {
  "kernelspec": {
   "display_name": "Python 3",
   "language": "python",
   "name": "python3"
  },
  "language_info": {
   "codemirror_mode": {
    "name": "ipython",
    "version": 3
   },
   "file_extension": ".py",
   "mimetype": "text/x-python",
   "name": "python",
   "nbconvert_exporter": "python",
   "pygments_lexer": "ipython3",
   "version": "3.6.1"
  }
 },
 "nbformat": 4,
 "nbformat_minor": 2
}
